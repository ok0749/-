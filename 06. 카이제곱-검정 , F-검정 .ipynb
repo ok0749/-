{
 "cells": [
  {
   "cell_type": "code",
   "execution_count": 8,
   "metadata": {},
   "outputs": [],
   "source": [
    "import scipy.stats as stats\n",
    "import numpy as np\n",
    "import pandas as pd\n",
    "import matplotlib.pyplot as plt\n",
    "import seaborn as sns\n",
    "sns.set()\n",
    "plt.rcParams['font.family'] = 'AppleGothic'\n",
    "plt.rcParams['axes.unicode_minus'] = False\n",
    "plt.rcParams['figure.figsize'] = (10, 7)"
   ]
  },
  {
   "cell_type": "markdown",
   "metadata": {},
   "source": [
    "### 카이제곱-검정\n",
    "- 카이제곱 분포에 기초한 통계적 방법\n",
    "- 관찰된 빈도가 기대빈도와 의미있게 다른지의 여부를 검증하기 위해 사용되는 검증방법\n",
    "- 자료가 빈도로 주어졌을 때, 특히 명목척도 자료의 분석에 이용\n",
    "- 질적자료와 질적자료간에 서로 통계적으로 관계가 있는지 판단하는 검정\n",
    "- 단일 표본의 모집단이 정규분포를 따르며 분산을 미리 알고 있는 경우에 적용된다."
   ]
  },
  {
   "cell_type": "markdown",
   "metadata": {},
   "source": [
    "제품의 판매량 비율은 다음과 같습니다. A: 56%, B: 12%, C: 32%\n",
    "\n",
    "그런데 특정 지역에 제품 A, B, C의 보유대수를 조사하니 각각 324대, 78대, 261대였습니다. \n",
    "\n",
    "이 자료로 다음과 같이 관찰빈도와 기대빈도를 만들 수 있다.\n",
    "- 귀무가설 H0: 관찰빈도는 기대빈도와 같다\n",
    "- 대립가설 H1: 관찰빈도는 기대빈도와 다르다\n"
   ]
  },
  {
   "cell_type": "code",
   "execution_count": 3,
   "metadata": {},
   "outputs": [
    {
     "data": {
      "text/html": [
       "<div>\n",
       "<style scoped>\n",
       "    .dataframe tbody tr th:only-of-type {\n",
       "        vertical-align: middle;\n",
       "    }\n",
       "\n",
       "    .dataframe tbody tr th {\n",
       "        vertical-align: top;\n",
       "    }\n",
       "\n",
       "    .dataframe thead th {\n",
       "        text-align: right;\n",
       "    }\n",
       "</style>\n",
       "<table border=\"1\" class=\"dataframe\">\n",
       "  <thead>\n",
       "    <tr style=\"text-align: right;\">\n",
       "      <th></th>\n",
       "      <th>A</th>\n",
       "      <th>B</th>\n",
       "      <th>C</th>\n",
       "    </tr>\n",
       "  </thead>\n",
       "  <tbody>\n",
       "    <tr>\n",
       "      <th>관찰</th>\n",
       "      <td>324</td>\n",
       "      <td>78</td>\n",
       "      <td>261</td>\n",
       "    </tr>\n",
       "    <tr>\n",
       "      <th>기대</th>\n",
       "      <td>371</td>\n",
       "      <td>80</td>\n",
       "      <td>212</td>\n",
       "    </tr>\n",
       "  </tbody>\n",
       "</table>\n",
       "</div>"
      ],
      "text/plain": [
       "      A   B    C\n",
       "관찰  324  78  261\n",
       "기대  371  80  212"
      ]
     },
     "execution_count": 3,
     "metadata": {},
     "output_type": "execute_result"
    }
   ],
   "source": [
    "xo, xe = [324, 78, 261], [371, 80, 212]\n",
    "xc = pd.DataFrame([xo, xe], columns=['A', 'B', 'C'], index=['관찰', '기대'])\n",
    "xc"
   ]
  },
  {
   "cell_type": "code",
   "execution_count": 9,
   "metadata": {},
   "outputs": [
    {
     "data": {
      "image/png": "[encoded data removed]",
      "text/plain": [
       "<Figure size 720x504 with 1 Axes>"
      ]
     },
     "metadata": {},
     "output_type": "display_data"
    }
   ],
   "source": [
    "xc.plot.bar()\n",
    "plt.show()"
   ]
  },
  {
   "cell_type": "code",
   "execution_count": 11,
   "metadata": {},
   "outputs": [
    {
     "data": {
      "text/plain": [
       "0.00017254977751013492"
      ]
     },
     "execution_count": 11,
     "metadata": {},
     "output_type": "execute_result"
    }
   ],
   "source": [
    "result = stats.chisquare(xo, f_exp=xe)\n",
    "result.pvalue"
   ]
  },
  {
   "cell_type": "markdown",
   "metadata": {},
   "source": [
    "p-value값이 0.05보다 작으므로 대립가설 채택"
   ]
  },
  {
   "cell_type": "markdown",
   "metadata": {},
   "source": [
    "### F-검정(등분산 여부 검정)\n",
    "- 등분산 검정은 두 집단 혹은 세 집단 이상 사이에 산포도 차이가 있는지를 통계적인 방법으로 검정하는 것으로, 두 집단 이상의 분산 차이를 검정할 때 사용할 수 있다.\n",
    "즉, 각 집단이 갖는 분산이 같은 것을 귀무 가설로, 차이가 있는 것을 대립 가설로 하여 검정하는 방법이다."
   ]
  },
  {
   "cell_type": "markdown",
   "metadata": {},
   "source": [
    "어떤 지역에서 동일한 제품을 판매하고 직원 수도 동일한 두 가게를 가정하였다 \n",
    "\n",
    "두 가게가 포함된 상권을 조사하는 과정에서 두 가게의 일별 매출의 변동을 통해 상권을 이해하고자 한다. \n",
    "- 귀무가설 H0: 두 가게의 매출 값의 분산은 같다.\n",
    "- 대립가설 H1: 두 가게의 매출 값의 분산은 다르다.\n",
    "\n",
    "F 검정 결과 귀무가설이 기각된다면 우리는 객관적으로 동일한 조건을 갖는 두 가게의 매출 값의 분산이 통계적으로 다르다고 할 수 있다."
   ]
  },
  {
   "cell_type": "code",
   "execution_count": 15,
   "metadata": {},
   "outputs": [
    {
     "name": "stdout",
     "output_type": "stream",
     "text": [
      "귀무가설 채택 -> 남녀 성적의 분산은 같다\n"
     ]
    }
   ],
   "source": [
    "# 남녀의 영어 성적에 대한 분산 분석\n",
    "boy = np.array([46, 47, 58, 47, 27, 58, 56, 26, 47, 25])\n",
    "girl = np.array([78, 57, 31, 28, 67, 77, 36, 57, 36, 57])\n",
    "\n",
    "# 귀무가설: 남녀 성적의 분산은 같다\n",
    "# 대립가설: 남녀 성적의 분산은 다르다\n",
    "\n",
    "pvalue = stats.f_oneway(boy, girl).pvalue\n",
    "if pvalue < 0.05:\n",
    "    print('귀무가설 기각, 대립가설 채택 -> 남녀 성적의 분산은 다르다')\n",
    "else:\n",
    "    print('귀무가설 채택 -> 남녀 성적의 분산은 같다')"
   ]
  }
 ],
 "metadata": {
  "kernelspec": {
   "display_name": "Python 3",
   "language": "python",
   "name": "python3"
  },
  "language_info": {
   "codemirror_mode": {
    "name": "ipython",
    "version": 3
   },
   "file_extension": ".py",
   "mimetype": "text/x-python",
   "name": "python",
   "nbconvert_exporter": "python",
   "pygments_lexer": "ipython3",
   "version": "3.8.5"
  }
 },
 "nbformat": 4,
 "nbformat_minor": 4
}
