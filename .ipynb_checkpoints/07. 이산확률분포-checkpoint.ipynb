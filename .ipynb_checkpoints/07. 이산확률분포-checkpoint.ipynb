{
 "cells": [
  {
   "cell_type": "code",
   "execution_count": 13,
   "metadata": {},
   "outputs": [],
   "source": [
    "from scipy import stats\n",
    "from scipy.special import comb, perm, factorial, comb\n",
    "import numpy as np\n",
    "import matplotlib.pyplot as plt\n",
    "import seaborn as sns\n",
    "sns.set()\n",
    "plt.rcParams['font.family'] = 'AppleGothic'\n",
    "plt.rcParams['axes.unicode_minus'] = False\n",
    "plt.rcParams['figure.figsize'] = (10, 7)"
   ]
  },
  {
   "cell_type": "markdown",
   "metadata": {},
   "source": [
    "### 베르누이 시행 (Bernoulli trial)\n",
    "- 결과가 두 가지 중 하나로만 나오는 실험이나 시행\n",
    "- 예를 들어 동전을 한 번 던져 앞면이 나오거나 뒷면이 나오게 하는 것도 베르누이 시행이다"
   ]
  },
  {
   "cell_type": "markdown",
   "metadata": {},
   "source": [
    "### 베르누이 확률변수(Bernoulli random variable)\n",
    "- 베르누이 시행의 결과를 실수 0 또는 1로 바꾼 것\n",
    "- 베르누이 확률변수는 두 값 중 하나만 가질 수 있으므로 이산확률변수(discrete random variable)이다"
   ]
  },
  {
   "cell_type": "markdown",
   "metadata": {},
   "source": [
    "### 베르누이 확률분포\n",
    "- 베르누이 확률변수의 분포를 베르누이 확률분포 혹은 베르누이 분포라고 한다. \n",
    "- ${\\displaystyle P(X=0)=p}$, ${\\displaystyle P(X=1)=q}{\\displaystyle P(X=1)=q}$, \n",
    "- ${\\displaystyle 0\\leq p\\leq 1}{\\displaystyle 0\\leq p\\leq 1}$, ${\\displaystyle q=1-p}{\\displaystyle q=1-p}$"
   ]
  },
  {
   "cell_type": "code",
   "execution_count": 2,
   "metadata": {},
   "outputs": [
    {
     "data": {
      "text/plain": [
       "array([0.1, 0.9])"
      ]
     },
     "execution_count": 2,
     "metadata": {},
     "output_type": "execute_result"
    }
   ],
   "source": [
    "# 숫자 1부터 10까지 적혀있는 카드가 10장 있다. 이중에 하나 뽑았을 때 8일 경우\n",
    "# 카드 하나 뽑는 확률\n",
    "mu = 1 / 10\n",
    "# 베르누이 시행\n",
    "rv = stats.bernoulli(mu)\n",
    "# 베르누이 확률 변수\n",
    "xx = [1, 0]\n",
    "# 확률질량함수\n",
    "rv.pmf(xx)"
   ]
  },
  {
   "cell_type": "markdown",
   "metadata": {},
   "source": [
    "8일 확률 0.1, 8이 아닐 확률 0.9"
   ]
  },
  {
   "cell_type": "code",
   "execution_count": 5,
   "metadata": {},
   "outputs": [
    {
     "data": {
      "image/png": "[encoded data removed]",
      "text/plain": [
       "<Figure size 720x504 with 1 Axes>"
      ]
     },
     "metadata": {},
     "output_type": "display_data"
    }
   ],
   "source": [
    "# 시각화\n",
    "plt.bar(xx, rv.pmf(xx))\n",
    "plt.xticks([0, 1], ['x=0', 'x=1'])\n",
    "plt.xlabel('표본값')\n",
    "plt.ylabel('P(x)')\n",
    "plt.show()"
   ]
  },
  {
   "cell_type": "markdown",
   "metadata": {},
   "source": [
    "주사위를 한개 던져 3이 나올 확률"
   ]
  },
  {
   "cell_type": "code",
   "execution_count": 7,
   "metadata": {},
   "outputs": [
    {
     "name": "stdout",
     "output_type": "stream",
     "text": [
      "3이 나올 확률: 0.16666666666666669, 3이 나오지 않을 확률: 0.8333333333333334\n"
     ]
    }
   ],
   "source": [
    "# 주사위 던져 뭔가 나오는 확률\n",
    "mu = 1 / 6\n",
    "# 베르누이 시행\n",
    "rv = stats.bernoulli(mu)\n",
    "# 베르누이 확률변수\n",
    "xx = [1, 0]\n",
    "# 확률질량함수\n",
    "print(f'3이 나올 확률: {rv.pmf(xx)[0]}, 3이 나오지 않을 확률: {rv.pmf(xx)[1]}')"
   ]
  },
  {
   "cell_type": "markdown",
   "metadata": {},
   "source": [
    "### 이항 분포\n",
    "- 연속된 n번의 독립적 시행에서 각 시행이 확률 p를 가질 때의 이산 확률 분포이다. 이러한 시행은 베르누이 시행이라고 불리기도 한다. 사실, n=1일 때 이항 분포는 베르누이 분포이다."
   ]
  },
  {
   "cell_type": "markdown",
   "metadata": {},
   "source": [
    "\n",
    "베르누이분포를 따르는 확률변수 $Y$의 확률질량함수를 대입하여 정리하면 이항분포 확률변수 $X$의 확률질량함수는 다음과 같아진다.\n",
    "\n",
    "$$\n",
    "\\begin{align}\n",
    "\\text{Bin}(x;N,p) = \\binom N x \\; p^x(1-p)^{N-x}\n",
    "\\tag{1}\n",
    "\\end{align}\n",
    "$$\n",
    "\n",
    "이 식에서 $\\binom N x$ 기호는 **조합(combination)**이라는 기호로 $N$개 원소 중에 $x$개 원소를 순서와 상관없이 선택할 수 있는 경우의 수를 뜻한다. 조합은 다음 공식으로 계산할 수 있다.\n",
    "\n",
    "$$\n",
    "\\begin{align}\n",
    "\\binom N x =\\dfrac{N!}{x!(N-x)!}\n",
    "\\tag{2}\n",
    "\\end{align}\n",
    "$$\n",
    "\n",
    "$!$ 기호는 **팩토리얼(factorial)**이라고 하며 다음처럼 정의한다.\n",
    "\n",
    "$$\n",
    "\\begin{align}\n",
    "N! = N\\cdot (N-1) \\cdots 2 \\cdot 1\n",
    "\\tag{3}\n",
    "\\end{align}\n",
    "$$\n",
    "\n"
   ]
  },
  {
   "cell_type": "code",
   "execution_count": 16,
   "metadata": {},
   "outputs": [
    {
     "data": {
      "text/plain": [
       "0.1550453595742519"
      ]
     },
     "execution_count": 16,
     "metadata": {},
     "output_type": "execute_result"
    }
   ],
   "source": [
    "# 계산\n",
    "(1 / 6) ** 3 * (5 / 6) ** 7 * comb(10, 3)"
   ]
  },
  {
   "cell_type": "code",
   "execution_count": 17,
   "metadata": {},
   "outputs": [
    {
     "data": {
      "text/plain": [
       "0.15504535957425197"
      ]
     },
     "execution_count": 17,
     "metadata": {},
     "output_type": "execute_result"
    }
   ],
   "source": [
    "# binom메소드 사용\n",
    "n = 10\n",
    "mu = 1 / 6\n",
    "rv = stats.binom(n, mu)\n",
    "rv.pmf(3)"
   ]
  },
  {
   "cell_type": "code",
   "execution_count": 18,
   "metadata": {},
   "outputs": [
    {
     "data": {
      "image/png": "[encoded data removed]",
      "text/plain": [
       "<Figure size 720x504 with 1 Axes>"
      ]
     },
     "metadata": {},
     "output_type": "display_data"
    }
   ],
   "source": [
    "# 시각화\n",
    "# 몇 번 나오느냐에 대한 확률 \n",
    "xx = np.arange(n + 1)\n",
    "plt.bar(xx, rv.pmf(xx))\n",
    "plt.show()"
   ]
  },
  {
   "cell_type": "markdown",
   "metadata": {},
   "source": [
    "한 축구 선수가 패널티킥을 차면 5번 중 4번은 성공한다고 한다. 그럼 이 선수가 10번의 패널티킥을 차서 7번 성공할 확률을 구하시오."
   ]
  },
  {
   "cell_type": "code",
   "execution_count": 19,
   "metadata": {},
   "outputs": [
    {
     "data": {
      "text/plain": [
       "0.2013265920000001"
      ]
     },
     "execution_count": 19,
     "metadata": {},
     "output_type": "execute_result"
    }
   ],
   "source": [
    "# 계산\n",
    "(4 / 5) ** 7 * (1 / 5) ** 3 * comb(10, 7)"
   ]
  },
  {
   "cell_type": "code",
   "execution_count": 20,
   "metadata": {},
   "outputs": [
    {
     "data": {
      "text/plain": [
       "0.20132659200000014"
      ]
     },
     "execution_count": 20,
     "metadata": {},
     "output_type": "execute_result"
    }
   ],
   "source": [
    "# binom메소드 사용\n",
    "n = 10\n",
    "mu = 4 / 5\n",
    "rv = stats.binom(n, mu)\n",
    "rv.pmf(7)"
   ]
  },
  {
   "cell_type": "code",
   "execution_count": 23,
   "metadata": {},
   "outputs": [
    {
     "data": {
      "image/png": "[encoded data removed]",
      "text/plain": [
       "<Figure size 720x504 with 1 Axes>"
      ]
     },
     "metadata": {},
     "output_type": "display_data"
    }
   ],
   "source": [
    "# 시각화 \n",
    "# 몇 번 성공하냐에 따른 확률\n",
    "xx = np.arange(n + 1)\n",
    "plt.bar(xx, rv.pmf(xx))\n",
    "plt.show()"
   ]
  },
  {
   "cell_type": "markdown",
   "metadata": {},
   "source": [
    "스마트폰의 한 부품을 만드는 회사가 있다. 이 회사의 불량률은 5%라고 한다\n",
    "\n",
    "그럼 부품 20개를 조사했을 때, 불량품이 2개 이하로 나올 확률을 구하시오"
   ]
  },
  {
   "cell_type": "code",
   "execution_count": 25,
   "metadata": {},
   "outputs": [
    {
     "data": {
      "text/plain": [
       "0.9245163262115033"
      ]
     },
     "execution_count": 25,
     "metadata": {},
     "output_type": "execute_result"
    }
   ],
   "source": [
    "n = 20\n",
    "mu = 0.05\n",
    "rv = stats.binom(n, mu)\n",
    "# 불량품 0개, 1개, 2개 나올 확률을 더한다\n",
    "rv.pmf([0, 1, 2]).sum()"
   ]
  },
  {
   "cell_type": "code",
   "execution_count": 26,
   "metadata": {},
   "outputs": [
    {
     "data": {
      "image/png": "[encoded data removed]",
      "text/plain": [
       "<Figure size 720x504 with 1 Axes>"
      ]
     },
     "metadata": {},
     "output_type": "display_data"
    }
   ],
   "source": [
    "# 시각화\n",
    "xx = np.arange(n + 1)\n",
    "plt.bar(xx, rv.pmf(xx))\n",
    "plt.show()"
   ]
  },
  {
   "cell_type": "markdown",
   "metadata": {},
   "source": [
    "어떤 희귀바이러스에 감염되었을 때, 회복할 수 있는 치료율은 20%라고 한다. \n",
    "\n",
    "바이러스에 감염된 환자 15명을 치료했을 때, 적어도 2명 이상은 회복할 확률을 구하시오"
   ]
  },
  {
   "cell_type": "code",
   "execution_count": 32,
   "metadata": {},
   "outputs": [
    {
     "data": {
      "text/plain": [
       "0.832874232578048"
      ]
     },
     "execution_count": 32,
     "metadata": {},
     "output_type": "execute_result"
    }
   ],
   "source": [
    "n = 15\n",
    "mu = 0.2\n",
    "rv = stats.binom(n, mu)\n",
    "# 전체 확률에서 0명, 1명 회복할 확률을 뺀다\n",
    "1 - rv.pmf([0, 1]).sum()"
   ]
  },
  {
   "cell_type": "code",
   "execution_count": 33,
   "metadata": {},
   "outputs": [
    {
     "data": {
      "image/png": "[encoded data removed]",
      "text/plain": [
       "<Figure size 720x504 with 1 Axes>"
      ]
     },
     "metadata": {},
     "output_type": "display_data"
    }
   ],
   "source": [
    "# 시각화\n",
    "xx = np.arange(n + 1)\n",
    "plt.bar(xx, rv.pmf(xx))\n",
    "plt.show()"
   ]
  }
 ],
 "metadata": {
  "kernelspec": {
   "display_name": "Python 3",
   "language": "python",
   "name": "python3"
  },
  "language_info": {
   "codemirror_mode": {
    "name": "ipython",
    "version": 3
   },
   "file_extension": ".py",
   "mimetype": "text/x-python",
   "name": "python",
   "nbconvert_exporter": "python",
   "pygments_lexer": "ipython3",
   "version": "3.8.5"
  }
 },
 "nbformat": 4,
 "nbformat_minor": 4
}
