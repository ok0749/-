{
 "cells": [
  {
   "cell_type": "code",
   "execution_count": 41,
   "metadata": {},
   "outputs": [],
   "source": [
    "import numpy as np\n",
    "import pandas as pd\n",
    "import matplotlib.pyplot as plt\n",
    "import seaborn as sns\n",
    "sns.set()\n",
    "plt.rcParams['figure.figsize'] = (10, 7)\n",
    "import math"
   ]
  },
  {
   "cell_type": "markdown",
   "metadata": {},
   "source": [
    "### 자유도 "
   ]
  },
  {
   "cell_type": "markdown",
   "metadata": {},
   "source": [
    "10, 14, 12, 18, 16 이라는 데이터가 있을 때\n",
    "\n",
    "이 데이터의 합계는 70이고 평균은 14이다. \n",
    "\n",
    "평균이 14임을 알고 있으면 위의 데이터중 하나를 모르더라도 그 숫자를 찾아낼 수 있다.\n",
    "\n",
    "그러므로 표본평균 값을 알고 있으면 전체 데이터 n개 중 자유롭게 값을 취할 수 있는 데이터는 n-1개이다."
   ]
  },
  {
   "cell_type": "code",
   "execution_count": 2,
   "metadata": {},
   "outputs": [
    {
     "data": {
      "text/html": [
       "<div>\n",
       "<style scoped>\n",
       "    .dataframe tbody tr th:only-of-type {\n",
       "        vertical-align: middle;\n",
       "    }\n",
       "\n",
       "    .dataframe tbody tr th {\n",
       "        vertical-align: top;\n",
       "    }\n",
       "\n",
       "    .dataframe thead th {\n",
       "        text-align: right;\n",
       "    }\n",
       "</style>\n",
       "<table border=\"1\" class=\"dataframe\">\n",
       "  <thead>\n",
       "    <tr style=\"text-align: right;\">\n",
       "      <th></th>\n",
       "      <th>score</th>\n",
       "    </tr>\n",
       "  </thead>\n",
       "  <tbody>\n",
       "    <tr>\n",
       "      <th>0</th>\n",
       "      <td>76</td>\n",
       "    </tr>\n",
       "    <tr>\n",
       "      <th>1</th>\n",
       "      <td>55</td>\n",
       "    </tr>\n",
       "    <tr>\n",
       "      <th>2</th>\n",
       "      <td>80</td>\n",
       "    </tr>\n",
       "    <tr>\n",
       "      <th>3</th>\n",
       "      <td>80</td>\n",
       "    </tr>\n",
       "    <tr>\n",
       "      <th>4</th>\n",
       "      <td>74</td>\n",
       "    </tr>\n",
       "  </tbody>\n",
       "</table>\n",
       "</div>"
      ],
      "text/plain": [
       "   score\n",
       "0     76\n",
       "1     55\n",
       "2     80\n",
       "3     80\n",
       "4     74"
      ]
     },
     "execution_count": 2,
     "metadata": {},
     "output_type": "execute_result"
    }
   ],
   "source": [
    "df = pd.read_csv('data3/ch4_scores400.csv')\n",
    "df.head()"
   ]
  },
  {
   "cell_type": "code",
   "execution_count": 3,
   "metadata": {},
   "outputs": [
    {
     "data": {
      "text/plain": [
       "400"
      ]
     },
     "execution_count": 3,
     "metadata": {},
     "output_type": "execute_result"
    }
   ],
   "source": [
    "len(df)"
   ]
  },
  {
   "cell_type": "code",
   "execution_count": 4,
   "metadata": {},
   "outputs": [
    {
     "data": {
      "text/plain": [
       "array([76, 55, 80, 80, 74, 61, 81, 76, 23, 80])"
      ]
     },
     "execution_count": 4,
     "metadata": {},
     "output_type": "execute_result"
    }
   ],
   "source": [
    "scores = df['score'].values\n",
    "scores[:10]"
   ]
  },
  {
   "cell_type": "code",
   "execution_count": 5,
   "metadata": {},
   "outputs": [
    {
     "data": {
      "text/plain": [
       "69.53"
      ]
     },
     "execution_count": 5,
     "metadata": {},
     "output_type": "execute_result"
    }
   ],
   "source": [
    "# 모집단 평균\n",
    "scores.mean()"
   ]
  },
  {
   "cell_type": "code",
   "execution_count": 6,
   "metadata": {},
   "outputs": [
    {
     "data": {
      "text/plain": [
       "array([49, 60, 72, 86, 52, 61, 77, 91, 80, 56, 69, 67, 90, 56, 75, 79, 60,\n",
       "       79, 68, 81])"
      ]
     },
     "execution_count": 6,
     "metadata": {},
     "output_type": "execute_result"
    }
   ],
   "source": [
    "# 임의의 표본 추출\n",
    "np.random.seed(0)\n",
    "sample = np.random.choice(scores, 20)\n",
    "sample"
   ]
  },
  {
   "cell_type": "code",
   "execution_count": 7,
   "metadata": {},
   "outputs": [
    {
     "name": "stdout",
     "output_type": "stream",
     "text": [
      "150.34000000000003\n",
      "158.25263157894742\n"
     ]
    }
   ],
   "source": [
    "# 편향 표본분산\n",
    "print(sample.var())\n",
    "# 비편향 표본분산(자유도 적용)\n",
    "print(sample.var(ddof=1))"
   ]
  },
  {
   "cell_type": "code",
   "execution_count": 8,
   "metadata": {},
   "outputs": [
    {
     "name": "stdout",
     "output_type": "stream",
     "text": [
      "12.261321299109653\n",
      "12.579850220847124\n"
     ]
    }
   ],
   "source": [
    "# 편향 표본편차\n",
    "print(sample.std())\n",
    "# 비편향 표본편차\n",
    "print(sample.std(ddof=1))"
   ]
  },
  {
   "cell_type": "code",
   "execution_count": 24,
   "metadata": {},
   "outputs": [
    {
     "data": {
      "image/png": "[encoded data removed]",
      "text/plain": [
       "<Figure size 720x504 with 1 Axes>"
      ]
     },
     "metadata": {},
     "output_type": "display_data"
    }
   ],
   "source": [
    "df.plot.hist(bins=100)\n",
    "plt.xlabel('score')\n",
    "plt.ylabel('relative frequency')\n",
    "plt.show()"
   ]
  },
  {
   "cell_type": "markdown",
   "metadata": {},
   "source": [
    "### 표본의 크기가 충분히 크면 모집단에 가까워진다."
   ]
  },
  {
   "cell_type": "code",
   "execution_count": 36,
   "metadata": {},
   "outputs": [
    {
     "data": {
      "image/png": "[encoded data removed]",
      "text/plain": [
       "<Figure size 720x504 with 1 Axes>"
      ]
     },
     "metadata": {},
     "output_type": "display_data"
    }
   ],
   "source": [
    "# 100개의 표본 추출\n",
    "sample = np.random.choice(scores, 100)\n",
    "plt.hist(sample, bins=100)\n",
    "plt.show()"
   ]
  },
  {
   "cell_type": "markdown",
   "metadata": {},
   "source": [
    "### 표본의 수가 충분히 많으면 모집단에 가까워진다."
   ]
  },
  {
   "cell_type": "code",
   "execution_count": 38,
   "metadata": {},
   "outputs": [
    {
     "data": {
      "text/plain": [
       "array([72.95, 71.15, 66.  , 72.75, 71.5 , 70.25, 65.65, 68.2 , 67.75,\n",
       "       69.25, 71.7 , 72.  , 68.95, 69.4 , 74.75, 71.9 , 68.5 , 70.15,\n",
       "       63.45, 67.95, 67.  , 67.2 , 74.  , 67.3 , 73.75, 72.95, 67.75,\n",
       "       63.95, 71.15, 66.5 , 72.75, 74.7 , 73.2 , 69.45, 73.4 , 72.85,\n",
       "       70.85, 69.1 , 66.6 , 75.15, 70.15, 68.95, 68.65, 76.05, 69.45,\n",
       "       72.5 , 69.95, 72.95, 64.5 , 64.85, 76.4 , 63.75, 70.3 , 72.  ,\n",
       "       70.  , 65.35, 67.9 , 68.9 , 68.15, 61.2 , 68.05, 71.45, 65.45,\n",
       "       69.7 , 63.1 , 75.1 , 68.7 , 72.45, 71.45, 65.9 , 72.05, 67.95,\n",
       "       62.85, 73.8 , 69.25, 64.95, 75.  , 70.2 , 72.15, 73.8 , 64.45,\n",
       "       69.15, 75.4 , 66.1 , 70.35, 66.15, 66.5 , 60.65, 63.5 , 70.55,\n",
       "       71.6 , 70.5 , 65.5 , 68.45, 70.5 , 75.95, 70.75, 71.8 , 76.  ,\n",
       "       71.8 ])"
      ]
     },
     "execution_count": 38,
     "metadata": {},
     "output_type": "execute_result"
    }
   ],
   "source": [
    "n = 20\n",
    "nSample = 100\n",
    "sample_mean = np.array([np.random.choice(scores, n).mean() for _ in range(nSample)])\n",
    "sample_mean"
   ]
  },
  {
   "cell_type": "markdown",
   "metadata": {},
   "source": [
    "### 중심 극한 정리\n",
    "- 모집단에서 취한 표본 평균값의 분포는 표본 수가 커질수록 평균값을 중심으로 하는 정규 분포에 가까워진다"
   ]
  },
  {
   "cell_type": "code",
   "execution_count": 47,
   "metadata": {},
   "outputs": [
    {
     "name": "stdout",
     "output_type": "stream",
     "text": [
      "모평균:  69.53\n",
      "표본평균의 평균:  69.6475\n",
      "모분산 / 표본 갯수:  10.333454999999999\n",
      "표본평균의 분산:  12.648668750000002\n",
      "평균의 표준 오차(SEM: Standard Error of the Mean):  3.2145691779770424\n",
      "3.5564966961885403\n"
     ]
    }
   ],
   "source": [
    "print('모평균: ', scores.mean())\n",
    "print('표본평균의 평균: ', sample_mean.mean() )\n",
    "print('모분산 / 표본 갯수: ', scores.var() / n)\n",
    "print('표본평균의 분산: ', sample_mean.var())\n",
    "# 평균의 표준 오차(SEM: Standard Error of the Mean): 표본 평균 분포의 표준 편차를 가리킨다. \n",
    "print('평균의 표준 오차(SEM: Standard Error of the Mean): ', scores.std() / math.sqrt(n))\n",
    "print(sample_mean.std())\n",
    "\n",
    "# 표본 평균에 대한 표준 편차는 표본 평균의 오차에 대한 표준 편차와 동일하다. 이러한 맥락은 중심극한정리(CLT)를 의미한다."
   ]
  },
  {
   "cell_type": "markdown",
   "metadata": {},
   "source": [
    "### 모평균 추정\n",
    "- 신뢰구간 1.96(95% 신뢰도), 2.58(99% 신뢰도)"
   ]
  },
  {
   "cell_type": "markdown",
   "metadata": {},
   "source": [
    "n명을 임으로 표본 추출<br>\n",
    "모(진짜)평균(μ:평균), 모(진짜)편차:$ \\sigma $  <br>\n",
    "표본평균:$ \\bar{X} $  <br>\n",
    "$ \\bar{X} -k * \\dfrac{ \\sigma }{ \\sqrt{n} } \\le m \\le \\bar{X} +k * \\dfrac{ \\sigma }{ \\sqrt{n} }   $ <br>\n",
    "k:신뢰도 상수\n",
    "\n",
    "표본갯수가 30개 이상이면 모표준편차와 표준편차를 동일한 것으로 본다 <br>\n",
    "$ s = \\sigma $\n",
    "\n",
    "평균의 표준 오차(standard error of the mean, SEM) = \n",
    "$ \\dfrac{ \\sigma }{ \\sqrt{n} } $\n",
    "\n"
   ]
  },
  {
   "cell_type": "code",
   "execution_count": 49,
   "metadata": {},
   "outputs": [
    {
     "name": "stdout",
     "output_type": "stream",
     "text": [
      "모평균:  69.53\n",
      "표본평균:  70.06666666666666\n",
      "모편차:  14.375990400664575\n",
      "표본편차:  18.06273019845622\n"
     ]
    }
   ],
   "source": [
    "# 표본 수\n",
    "n = 30\n",
    "# 표본 추출\n",
    "sample = np.random.choice(scores, n)\n",
    "# 표본평균\n",
    "sMean = sample.mean()\n",
    "# 표본 편차\n",
    "sStd = sample.std()\n",
    "\n",
    "print('모평균: ', scores.mean())\n",
    "print('표본평균: ', sMean)\n",
    "print('모편차: ', scores.std())\n",
    "print('표본편차: ', sStd)"
   ]
  },
  {
   "cell_type": "code",
   "execution_count": 55,
   "metadata": {},
   "outputs": [
    {
     "name": "stdout",
     "output_type": "stream",
     "text": [
      "63.603001677181496 <= m <= 76.53033165615183\n"
     ]
    }
   ],
   "source": [
    "# 95% 신뢰구간 계산\n",
    "# 보통 모편차를 모르기 때문에 표준편차를 사용한다\n",
    "a = sMean - 1.96 * (sample.std() / math.sqrt(n))\n",
    "b = sMean + 1.96 * (sample.std() / math.sqrt(n))\n",
    "print(f'{a} <= m <= {b}')"
   ]
  },
  {
   "cell_type": "code",
   "execution_count": 56,
   "metadata": {},
   "outputs": [
    {
     "data": {
      "text/plain": [
       "(63.603120448542484, 76.53021288479084)"
      ]
     },
     "execution_count": 56,
     "metadata": {},
     "output_type": "execute_result"
    }
   ],
   "source": [
    "# scipy 라이브러리 사용\n",
    "import scipy.stats as st\n",
    "st.norm.interval(0.95, sample.mean(), scale=st.sem(sample, ddof=0))"
   ]
  },
  {
   "cell_type": "markdown",
   "metadata": {},
   "source": [
    "### 연습 문제 1)\n",
    "- 어느 호수의 납의 농도는 표준편차가 3mg/L 이다.\n",
    "- 이 호수에서 납의 농도를 16번 측정한 결과 평균 농도는 18mg/L 이었다.\n",
    "- 이 호수에서 납의 농도에 대한 모평균 m의 신뢰도 95%의 신뢰구간을 구하라"
   ]
  },
  {
   "cell_type": "code",
   "execution_count": 57,
   "metadata": {},
   "outputs": [
    {
     "name": "stdout",
     "output_type": "stream",
     "text": [
      "16.53 <= m <= 19.47\n"
     ]
    }
   ],
   "source": [
    "# 모 표준편차\n",
    "sigma = 3\n",
    "# 표본의 수 \n",
    "n = 16\n",
    "# 표본평균\n",
    "x_bar = 18\n",
    "\n",
    "a = x_bar - 1.96 * (sigma / math.sqrt(n))\n",
    "b = x_bar + 1.96 * (sigma / math.sqrt(n))\n",
    "print(f'{a} <= m <= {b}')"
   ]
  },
  {
   "cell_type": "code",
   "execution_count": 58,
   "metadata": {},
   "outputs": [
    {
     "data": {
      "text/plain": [
       "(16.53002701159496, 19.46997298840504)"
      ]
     },
     "execution_count": 58,
     "metadata": {},
     "output_type": "execute_result"
    }
   ],
   "source": [
    "st.norm.interval(0.95, x_bar, sigma / math.sqrt(n))"
   ]
  },
  {
   "cell_type": "markdown",
   "metadata": {},
   "source": [
    "### 연습 문제 2)\n",
    "- 어느 고등학교 남학생 36명의 제자리멀리뛰기 기록은 평균이 216cm 표준편차가 10cm이다.\n",
    "- 이 학교 남학생들의 제자리멀리뛰기 기록에 대한 모평균 m의 99% 신뢰구간을 구하라"
   ]
  },
  {
   "cell_type": "code",
   "execution_count": 59,
   "metadata": {},
   "outputs": [
    {
     "name": "stdout",
     "output_type": "stream",
     "text": [
      "211.7 <= m <= 220.3\n"
     ]
    }
   ],
   "source": [
    "# 표본 수\n",
    "n = 36\n",
    "# 표본평균\n",
    "x_bar = 216\n",
    "# 표본 표준편차 \n",
    "s = 10\n",
    "\n",
    "a = x_bar - 2.58 * (s / math.sqrt(n))\n",
    "b = x_bar + 2.58 * (s / math.sqrt(n))\n",
    "print(f'{a} <= m <= {b}')"
   ]
  },
  {
   "cell_type": "code",
   "execution_count": 60,
   "metadata": {},
   "outputs": [
    {
     "data": {
      "text/plain": [
       "(211.70695116075183, 220.29304883924817)"
      ]
     },
     "execution_count": 60,
     "metadata": {},
     "output_type": "execute_result"
    }
   ],
   "source": [
    "st.norm.interval(0.99, x_bar, s / math.sqrt(n))"
   ]
  }
 ],
 "metadata": {
  "kernelspec": {
   "display_name": "Python 3",
   "language": "python",
   "name": "python3"
  },
  "language_info": {
   "codemirror_mode": {
    "name": "ipython",
    "version": 3
   },
   "file_extension": ".py",
   "mimetype": "text/x-python",
   "name": "python",
   "nbconvert_exporter": "python",
   "pygments_lexer": "ipython3",
   "version": "3.8.5"
  }
 },
 "nbformat": 4,
 "nbformat_minor": 4
}
